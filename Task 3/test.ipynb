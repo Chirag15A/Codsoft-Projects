{
 "cells": [
  {
   "cell_type": "markdown",
   "metadata": {},
   "source": [
    "Testing our model"
   ]
  },
  {
   "cell_type": "code",
   "execution_count": 11,
   "metadata": {},
   "outputs": [],
   "source": [
    "# Import necessary libraries\n",
    "import pandas as pd\n",
    "import joblib"
   ]
  },
  {
   "cell_type": "code",
   "execution_count": 12,
   "metadata": {},
   "outputs": [],
   "source": [
    "# Create a dictionary with sample data\n",
    "data = {\n",
    "    'sepal_length': [4.7, 4.9, 5.1],\n",
    "    'petal_length': [1.5, 1.7, 1.9],\n",
    "}"
   ]
  },
  {
   "cell_type": "code",
   "execution_count": 13,
   "metadata": {},
   "outputs": [],
   "source": [
    "# Create a new DataFrame named new_data\n",
    "new_data = pd.DataFrame(data)"
   ]
  },
  {
   "cell_type": "code",
   "execution_count": 14,
   "metadata": {},
   "outputs": [
    {
     "name": "stdout",
     "output_type": "stream",
     "text": [
      "   sepal_length  petal_length\n",
      "0           4.7           1.5\n",
      "1           4.9           1.7\n",
      "2           5.1           1.9\n"
     ]
    }
   ],
   "source": [
    "# Display the new_data DataFrame\n",
    "print(new_data)\n"
   ]
  },
  {
   "cell_type": "code",
   "execution_count": 15,
   "metadata": {},
   "outputs": [],
   "source": [
    "# Load the pre-trained model\n",
    "model = joblib.load('main.joblib')"
   ]
  },
  {
   "cell_type": "code",
   "execution_count": 16,
   "metadata": {},
   "outputs": [],
   "source": [
    "# Make predictions using the loaded model\n",
    "predictions = model.predict(new_data)"
   ]
  },
  {
   "cell_type": "code",
   "execution_count": 17,
   "metadata": {},
   "outputs": [
    {
     "name": "stdout",
     "output_type": "stream",
     "text": [
      "   Predicted Iris flower\n",
      "0                      0\n",
      "1                      0\n",
      "2                      0\n"
     ]
    }
   ],
   "source": [
    "# Display the predictions\n",
    "predictions_df = pd.DataFrame({'Predicted Iris flower': predictions})\n",
    "print(predictions_df.head())"
   ]
  },
  {
   "cell_type": "code",
   "execution_count": 18,
   "metadata": {},
   "outputs": [
    {
     "name": "stdout",
     "output_type": "stream",
     "text": [
      "  Predicted Iris flower\n",
      "0           Iris-setosa\n",
      "1           Iris-setosa\n",
      "2           Iris-setosa\n"
     ]
    }
   ],
   "source": [
    "# Reverse label encoding for the 'species' column\n",
    "from sklearn.preprocessing import LabelEncoder\n",
    "label_encoder = LabelEncoder()\n",
    "label_encoder.fit(['Iris-setosa', 'Iris-versicolor', 'Iris-virginica'])\n",
    "predictions_df['Predicted Iris flower'] = label_encoder.inverse_transform(predictions_df['Predicted Iris flower'])\n",
    "\n",
    "# Display the DataFrame after reverse label encoding\n",
    "print(predictions_df)\n"
   ]
  }
 ],
 "metadata": {
  "kernelspec": {
   "display_name": "Python 3",
   "language": "python",
   "name": "python3"
  },
  "language_info": {
   "codemirror_mode": {
    "name": "ipython",
    "version": 3
   },
   "file_extension": ".py",
   "mimetype": "text/x-python",
   "name": "python",
   "nbconvert_exporter": "python",
   "pygments_lexer": "ipython3",
   "version": "3.11.0"
  }
 },
 "nbformat": 4,
 "nbformat_minor": 2
}
